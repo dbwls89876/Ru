{
 "cells": [
  {
   "cell_type": "markdown",
   "metadata": {},
   "source": [
    "# 이진트리"
   ]
  },
  {
   "cell_type": "code",
   "execution_count": 44,
   "metadata": {},
   "outputs": [],
   "source": [
    "class Tree:\n",
    "    def __init__(self, data):\n",
    "        self.data = data\n",
    "        self.left = None\n",
    "        self.right = None\n",
    "    \n",
    "    def inOrder(self):\n",
    "        if(self!=None):\n",
    "            if(self.left!=None):\n",
    "                self.left.inOrder()\n",
    "            print(self.data)\n",
    "            if(self.right!=None):\n",
    "                self.right.inOrder()\n",
    "    \n",
    "    def preOrder(self):\n",
    "        if(self!=None):\n",
    "            print(self.data)\n",
    "            if(self.left!=None):\n",
    "                self.left.preOrder()\n",
    "            if(self.right!=None):\n",
    "                self.right.preOrder()\n",
    "\n",
    "    def postOrder(self):\n",
    "        if(self!=None):\n",
    "            if(self.left!=None):\n",
    "                self.left.postOrder()\n",
    "            if(self.right!=None):\n",
    "                self.right.postOrder()\n",
    "            print(self.data)\n",
    " "
   ]
  },
  {
   "cell_type": "code",
   "execution_count": 35,
   "metadata": {},
   "outputs": [
    {
     "name": "stdout",
     "output_type": "stream",
     "text": [
      "1 3 2\n"
     ]
    }
   ],
   "source": [
    "tree1 = Tree(1)\n",
    "tree2 = Tree(2)\n",
    "tree3 = Tree(3)\n",
    "\n",
    "tree1.left = tree2\n",
    "tree1.right = tree3\n",
    "\n",
    "print(tree1.data, tree1.right.data, tree1.left.data)"
   ]
  },
  {
   "cell_type": "code",
   "execution_count": 36,
   "metadata": {
    "scrolled": true
   },
   "outputs": [
    {
     "name": "stdout",
     "output_type": "stream",
     "text": [
      "중위순회\n",
      "1\n",
      "2\n",
      "6\n",
      "3\n",
      "5\n",
      "4\n",
      "전위순회\n",
      "6\n",
      "2\n",
      "1\n",
      "5\n",
      "3\n",
      "4\n",
      "후위순회\n",
      "1\n",
      "2\n",
      "3\n",
      "4\n",
      "5\n",
      "6\n"
     ]
    }
   ],
   "source": [
    "n1 = Tree(1)\n",
    "n2 = Tree(2)\n",
    "n2.left = n1\n",
    "\n",
    "n3 = Tree(3)\n",
    "n4 = Tree(4)\n",
    "n5 = Tree(5)\n",
    "n5.left = n3\n",
    "n5.right = n4\n",
    "\n",
    "root = Tree(6)\n",
    "root.left = n2\n",
    "root.right = n5\n",
    "print(\"중위순회\")\n",
    "root.inOrder()\n",
    "print(\"전위순회\")\n",
    "root.preOrder()\n",
    "print(\"후위순회\")\n",
    "root.postOrder()"
   ]
  },
  {
   "cell_type": "markdown",
   "metadata": {},
   "source": [
    "# 레벨순회"
   ]
  },
  {
   "cell_type": "code",
   "execution_count": 37,
   "metadata": {},
   "outputs": [
    {
     "data": {
      "text/plain": [
       "'숫자'"
      ]
     },
     "execution_count": 37,
     "metadata": {},
     "output_type": "execute_result"
    }
   ],
   "source": [
    "from collections import deque \n",
    "queue = deque()\n",
    "queue.append('숫자')\n",
    "queue.popleft()"
   ]
  },
  {
   "cell_type": "code",
   "execution_count": 39,
   "metadata": {},
   "outputs": [
    {
     "name": "stdout",
     "output_type": "stream",
     "text": [
      "6\n",
      "2\n",
      "5\n",
      "1\n",
      "3\n",
      "4\n"
     ]
    }
   ],
   "source": [
    "from collections import deque \n",
    "\n",
    "def levelOrder(root):\n",
    "    queue = deque()\n",
    "    queue.append(root)\n",
    "    while queue:\n",
    "        select = queue.popleft()\n",
    "        print(select.data)\n",
    "        if select.left:\n",
    "            queue.append(select.left)\n",
    "        if select.right:\n",
    "            queue.append(select.right)\n",
    "\n",
    "levelOrder(root)"
   ]
  },
  {
   "cell_type": "markdown",
   "metadata": {},
   "source": [
    "# 이진탐색트리"
   ]
  },
  {
   "cell_type": "code",
   "execution_count": 51,
   "metadata": {},
   "outputs": [],
   "source": [
    "class BinarySearchTree:\n",
    "    def __init__(self, data):\n",
    "        self.data = data\n",
    "        self.left = None\n",
    "        self.right = None\n",
    "\n",
    "    def search(self, data):\n",
    "        if self==None:\n",
    "            return None\n",
    "        if data==self.data:\n",
    "            return self\n",
    "        elif data<self.data:\n",
    "            return self.left.search(data)\n",
    "        else:\n",
    "            return self.right.search(data)\n",
    "        \n",
    "    def insertNode(self, data):\n",
    "        if(self==None):\n",
    "            self = Tree(data)\n",
    "        if(data<self.data):\n",
    "            self.left = self.left.insertNode(data)\n",
    "        elif data>self.data:\n",
    "            self.right = self.right.insertNode(data)\n",
    "        \n",
    "        return self\n",
    "    \n",
    "    def minValueNode(self):\n",
    "        current = self\n",
    "        while current.left:\n",
    "            current = current.left\n",
    "        return current\n",
    "    \n",
    "    def deleteNode(self, data):\n",
    "        if self==None:\n",
    "            return self\n",
    "        if(data < self.data):\n",
    "            self.left = self.left.deleteNode()\n",
    "        elif data>self.data:\n",
    "            self.right = self.right.deleteNode()\n",
    "        else:\n",
    "            if self.left == None:\n",
    "                temp = self.right\n",
    "                self=None\n",
    "                return temp\n",
    "            elif self.right==None:\n",
    "                temp = self.left\n",
    "                self=None\n",
    "                return temp\n",
    "            temp = self.right.minValueNode\n",
    "            self.data = temp.data\n",
    "            self.right = self.right.deleteNode(data)\n",
    "        return self\n",
    "        \n",
    "    def inOrder(self):\n",
    "        if(self!=None):\n",
    "            if(self.left!=None):\n",
    "                self.left.inOrder()\n",
    "            print(self.data)\n",
    "            if(self.right!=None):\n",
    "                self.right.inOrder()"
   ]
  },
  {
   "cell_type": "code",
   "execution_count": 52,
   "metadata": {},
   "outputs": [
    {
     "ename": "TypeError",
     "evalue": "__init__() takes 1 positional argument but 2 were given",
     "output_type": "error",
     "traceback": [
      "\u001b[1;31m---------------------------------------------------------------------------\u001b[0m",
      "\u001b[1;31mTypeError\u001b[0m                                 Traceback (most recent call last)",
      "\u001b[1;32m<ipython-input-52-c426b05fd5b8>\u001b[0m in \u001b[0;36m<module>\u001b[1;34m\u001b[0m\n\u001b[1;32m----> 1\u001b[1;33m \u001b[0mroot\u001b[0m \u001b[1;33m=\u001b[0m \u001b[0mBinarySearchTree\u001b[0m\u001b[1;33m(\u001b[0m\u001b[1;36m30\u001b[0m\u001b[1;33m)\u001b[0m\u001b[1;33m\u001b[0m\u001b[1;33m\u001b[0m\u001b[0m\n\u001b[0m\u001b[0;32m      2\u001b[0m \u001b[0mroot\u001b[0m\u001b[1;33m.\u001b[0m\u001b[0minsertNode\u001b[0m\u001b[1;33m(\u001b[0m\u001b[1;36m20\u001b[0m\u001b[1;33m)\u001b[0m\u001b[1;33m\u001b[0m\u001b[1;33m\u001b[0m\u001b[0m\n",
      "\u001b[1;31mTypeError\u001b[0m: __init__() takes 1 positional argument but 2 were given"
     ]
    }
   ],
   "source": [
    "root = BinarySearchTree(30)\n",
    "root.insertNode(20)"
   ]
  },
  {
   "cell_type": "code",
   "execution_count": null,
   "metadata": {},
   "outputs": [],
   "source": []
  }
 ],
 "metadata": {
  "kernelspec": {
   "display_name": "Python 3",
   "language": "python",
   "name": "python3"
  },
  "language_info": {
   "codemirror_mode": {
    "name": "ipython",
    "version": 3
   },
   "file_extension": ".py",
   "mimetype": "text/x-python",
   "name": "python",
   "nbconvert_exporter": "python",
   "pygments_lexer": "ipython3",
   "version": "3.7.7"
  },
  "toc": {
   "base_numbering": 1,
   "nav_menu": {},
   "number_sections": true,
   "sideBar": true,
   "skip_h1_title": false,
   "title_cell": "Table of Contents",
   "title_sidebar": "Contents",
   "toc_cell": false,
   "toc_position": {
    "height": "calc(100% - 180px)",
    "left": "10px",
    "top": "150px",
    "width": "191.594px"
   },
   "toc_section_display": true,
   "toc_window_display": true
  }
 },
 "nbformat": 4,
 "nbformat_minor": 4
}
