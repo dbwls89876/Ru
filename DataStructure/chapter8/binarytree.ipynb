{
 "cells": [
  {
   "cell_type": "markdown",
   "metadata": {},
   "source": [
    "# 이진트리"
   ]
  },
  {
   "cell_type": "code",
   "execution_count": 44,
   "metadata": {},
   "outputs": [],
   "source": [
    "class Tree:\n",
    "    def __init__(self, data):\n",
    "        self.data = data\n",
    "        self.left = None\n",
    "        self.right = None\n",
    "    \n",
    "    def inOrder(self):\n",
    "        if(self!=None):\n",
    "            if(self.left!=None):\n",
    "                self.left.inOrder()\n",
    "            print(self.data)\n",
    "            if(self.right!=None):\n",
    "                self.right.inOrder()\n",
    "    \n",
    "    def preOrder(self):\n",
    "        if(self!=None):\n",
    "            print(self.data)\n",
    "            if(self.left!=None):\n",
    "                self.left.preOrder()\n",
    "            if(self.right!=None):\n",
    "                self.right.preOrder()\n",
    "\n",
    "    def postOrder(self):\n",
    "        if(self!=None):\n",
    "            if(self.left!=None):\n",
    "                self.left.postOrder()\n",
    "            if(self.right!=None):\n",
    "                self.right.postOrder()\n",
    "            print(self.data)\n",
    " "
   ]
  },
  {
   "cell_type": "code",
   "execution_count": 35,
   "metadata": {},
   "outputs": [
    {
     "name": "stdout",
     "output_type": "stream",
     "text": [
      "1 3 2\n"
     ]
    }
   ],
   "source": [
    "tree1 = Tree(1)\n",
    "tree2 = Tree(2)\n",
    "tree3 = Tree(3)\n",
    "\n",
    "tree1.left = tree2\n",
    "tree1.right = tree3\n",
    "\n",
    "print(tree1.data, tree1.right.data, tree1.left.data)"
   ]
  },
  {
   "cell_type": "code",
   "execution_count": 36,
   "metadata": {
    "scrolled": true
   },
   "outputs": [
    {
     "name": "stdout",
     "output_type": "stream",
     "text": [
      "중위순회\n",
      "1\n",
      "2\n",
      "6\n",
      "3\n",
      "5\n",
      "4\n",
      "전위순회\n",
      "6\n",
      "2\n",
      "1\n",
      "5\n",
      "3\n",
      "4\n",
      "후위순회\n",
      "1\n",
      "2\n",
      "3\n",
      "4\n",
      "5\n",
      "6\n"
     ]
    }
   ],
   "source": [
    "n1 = Tree(1)\n",
    "n2 = Tree(2)\n",
    "n2.left = n1\n",
    "\n",
    "n3 = Tree(3)\n",
    "n4 = Tree(4)\n",
    "n5 = Tree(5)\n",
    "n5.left = n3\n",
    "n5.right = n4\n",
    "\n",
    "root = Tree(6)\n",
    "root.left = n2\n",
    "root.right = n5\n",
    "print(\"중위순회\")\n",
    "root.inOrder()\n",
    "print(\"전위순회\")\n",
    "root.preOrder()\n",
    "print(\"후위순회\")\n",
    "root.postOrder()"
   ]
  },
  {
   "cell_type": "markdown",
   "metadata": {},
   "source": [
    "# 레벨순회"
   ]
  },
  {
   "cell_type": "code",
   "execution_count": 37,
   "metadata": {},
   "outputs": [
    {
     "data": {
      "text/plain": [
       "'숫자'"
      ]
     },
     "execution_count": 37,
     "metadata": {},
     "output_type": "execute_result"
    }
   ],
   "source": [
    "from collections import deque \n",
    "queue = deque()\n",
    "queue.append('숫자')\n",
    "queue.popleft()"
   ]
  },
  {
   "cell_type": "code",
   "execution_count": 39,
   "metadata": {},
   "outputs": [
    {
     "name": "stdout",
     "output_type": "stream",
     "text": [
      "6\n",
      "2\n",
      "5\n",
      "1\n",
      "3\n",
      "4\n"
     ]
    }
   ],
   "source": [
    "from collections import deque \n",
    "\n",
    "def levelOrder(root):\n",
    "    queue = deque()\n",
    "    queue.append(root)\n",
    "    while queue:\n",
    "        select = queue.popleft()\n",
    "        print(select.data)\n",
    "        if select.left:\n",
    "            queue.append(select.left)\n",
    "        if select.right:\n",
    "            queue.append(select.right)\n",
    "\n",
    "levelOrder(root)"
   ]
  },
  {
   "cell_type": "markdown",
   "metadata": {},
   "source": [
    "# 이진탐색트리"
   ]
  },
  {
   "cell_type": "code",
   "execution_count": 99,
   "metadata": {},
   "outputs": [],
   "source": [
    "class BinarySearchTree:\n",
    "    def __init__(self, data):\n",
    "        self.data = data\n",
    "        self.left = None\n",
    "        self.right = None\n",
    "\n",
    "    def search(self, data):\n",
    "        if data==self.data:\n",
    "            return self\n",
    "        elif data<self.data:\n",
    "            if self.left==None:\n",
    "                return False\n",
    "            return self.left.search(data)\n",
    "        else:\n",
    "            if self.right==None:\n",
    "                return False\n",
    "            return self.right.search(data)\n",
    "        \n",
    "    def insertNode(self, data):\n",
    "        if data<self.data:\n",
    "            if self.left==None:\n",
    "                self.left = BinarySearchTree(data)\n",
    "            else:\n",
    "                self.left = self.left.insertNode(data)\n",
    "        elif data>self.data:\n",
    "            if self.right==None:\n",
    "                self.right = BinarySearchTree(data)\n",
    "            else:\n",
    "                self.right = self.right.insertNode(data)\n",
    "\n",
    "        return self\n",
    "    \n",
    "    def minValueNode(self):\n",
    "        current = self\n",
    "        while current.left:\n",
    "            current = current.left\n",
    "        return current\n",
    "    \n",
    "    def deleteNode(self, data):\n",
    "        if(data < self.data):\n",
    "            if self.left==None:\n",
    "                return self.left\n",
    "            self.left = self.left.deleteNode(data)\n",
    "        elif data>self.data:\n",
    "            if self.right==None:\n",
    "                return self.right\n",
    "            self.right = self.right.deleteNode(data)\n",
    "        else:\n",
    "            if self.left == None:\n",
    "                temp = self.right\n",
    "                self=None\n",
    "                return temp\n",
    "            elif self.right==None:\n",
    "                temp = self.left\n",
    "                self=None\n",
    "                return temp\n",
    "            temp = self.right.minValueNode()\n",
    "            self.data = temp.data\n",
    "            self.right = self.right.deleteNode(temp.data)\n",
    "        return self\n",
    "        \n",
    "    def inOrder(self):\n",
    "        if(self!=None):\n",
    "            if(self.left!=None):\n",
    "                self.left.inOrder()\n",
    "            print(self.data)\n",
    "            if(self.right!=None):\n",
    "                self.right.inOrder()"
   ]
  },
  {
   "cell_type": "code",
   "execution_count": 101,
   "metadata": {
    "scrolled": true
   },
   "outputs": [
    {
     "name": "stdout",
     "output_type": "stream",
     "text": [
      "30이 존재함\n",
      "70이 없음\n",
      "40\n",
      "20\n",
      "50\n",
      "10\n",
      "60\n"
     ]
    }
   ],
   "source": [
    "root = BinarySearchTree(30)\n",
    "root.insertNode(20)\n",
    "root.insertNode(10)\n",
    "root.insertNode(40)\n",
    "root.insertNode(50)\n",
    "root.insertNode(60)\n",
    "\n",
    "if root.search(30):\n",
    "    print(\"30이 존재함\")\n",
    "else:\n",
    "    print(\"30이 없음\")\n",
    "    \n",
    "if root.search(70):\n",
    "    print(\"70이 존재함\")\n",
    "else:\n",
    "    print(\"70이 없음\")\n",
    "\n",
    "root.deleteNode(30)\n",
    "\n",
    "levelOrder(root)"
   ]
  },
  {
   "cell_type": "code",
   "execution_count": null,
   "metadata": {},
   "outputs": [],
   "source": []
  }
 ],
 "metadata": {
  "kernelspec": {
   "display_name": "Python 3",
   "language": "python",
   "name": "python3"
  },
  "language_info": {
   "codemirror_mode": {
    "name": "ipython",
    "version": 3
   },
   "file_extension": ".py",
   "mimetype": "text/x-python",
   "name": "python",
   "nbconvert_exporter": "python",
   "pygments_lexer": "ipython3",
   "version": "3.7.7"
  },
  "toc": {
   "base_numbering": 1,
   "nav_menu": {},
   "number_sections": true,
   "sideBar": true,
   "skip_h1_title": false,
   "title_cell": "Table of Contents",
   "title_sidebar": "Contents",
   "toc_cell": false,
   "toc_position": {
    "height": "calc(100% - 180px)",
    "left": "10px",
    "top": "150px",
    "width": "191.594px"
   },
   "toc_section_display": true,
   "toc_window_display": true
  }
 },
 "nbformat": 4,
 "nbformat_minor": 4
}
