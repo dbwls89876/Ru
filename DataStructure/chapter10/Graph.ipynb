{
 "cells": [
  {
   "cell_type": "markdown",
   "metadata": {},
   "source": [
    "## 그래프행렬"
   ]
  },
  {
   "cell_type": "code",
   "execution_count": 3,
   "metadata": {},
   "outputs": [],
   "source": [
    "MAX_VERTICES = 50\n",
    "class Graph:\n",
    "    def __init__(self):\n",
    "        self.n = 0\n",
    "        self.mat = [[0 for col in range(MAX_VERTICES)] for row in range(MAX_VERTICES)]\n",
    "    \n",
    "    def insertVertex(self):\n",
    "        if (self.n+1) > MAX_VERTICES:\n",
    "            print(\"그래프 정점의 개수 초과\");\n",
    "            return\n",
    "        self.n+=1\n",
    "        \n",
    "    def insertEdge(self, start, end):\n",
    "        if(start >= self.n or end >= self.n):\n",
    "            print(\"그래프 정점의 번호 오류\");\n",
    "            return\n",
    "        self.mat[start][end] = 1\n",
    "        self.mat[end][start] = 1\n",
    "        \n",
    "    def printMat(self):\n",
    "        for i in range (self.n):\n",
    "            for j in range(self.n):\n",
    "                print(self.mat[i][j], end=\" \")\n",
    "            print()"
   ]
  },
  {
   "cell_type": "code",
   "execution_count": null,
   "metadata": {},
   "outputs": [],
   "source": [
    "g = Graph()\n",
    "for i in range(4):\n",
    "    g.insertVertex()\n",
    "g.insertEdge(0, 1)\n",
    "g.insertEdge(0, 2)\n",
    "g.insertEdge(0, 3)\n",
    "g.insertEdge(1, 2)\n",
    "g.insertEdge(2, 3)\n",
    "g.printMat()"
   ]
  },
  {
   "cell_type": "markdown",
   "metadata": {},
   "source": [
    "## 인접리스트"
   ]
  },
  {
   "cell_type": "code",
   "execution_count": 4,
   "metadata": {},
   "outputs": [],
   "source": [
    "def insertVertex(graph):\n",
    "    graph.append([])\n",
    "    \n",
    "def insertEdge(graph, start, end):\n",
    "    graph[start].append(end)\n",
    "    graph[end].append(start)\n",
    "    \n",
    "def printList(graph):\n",
    "    for i in range(len(graph)):\n",
    "        print(i , '정점과 연결됨 : ', graph[i])"
   ]
  },
  {
   "cell_type": "code",
   "execution_count": 5,
   "metadata": {
    "scrolled": false
   },
   "outputs": [
    {
     "name": "stdout",
     "output_type": "stream",
     "text": [
      "0 정점과 연결됨 :  [1, 2]\n",
      "1 정점과 연결됨 :  [0, 4, 3]\n",
      "2 정점과 연결됨 :  [0, 5, 6]\n",
      "3 정점과 연결됨 :  [1]\n",
      "4 정점과 연결됨 :  [1]\n",
      "5 정점과 연결됨 :  [2]\n",
      "6 정점과 연결됨 :  [2]\n"
     ]
    }
   ],
   "source": [
    "graph = []\n",
    "for i in range(7):\n",
    "    insertVertex(graph)\n",
    "\n",
    "insertEdge(graph,0, 1)\n",
    "insertEdge(graph,0, 2)\n",
    "insertEdge(graph,1, 4)\n",
    "insertEdge(graph,1, 3)\n",
    "insertEdge(graph,2, 5)\n",
    "insertEdge(graph,2, 6)\n",
    "printList(graph)"
   ]
  },
  {
   "cell_type": "markdown",
   "metadata": {},
   "source": [
    "## BFS(너비 우선 탐색)"
   ]
  },
  {
   "cell_type": "code",
   "execution_count": 6,
   "metadata": {},
   "outputs": [],
   "source": [
    "from collections import deque"
   ]
  },
  {
   "cell_type": "code",
   "execution_count": 7,
   "metadata": {},
   "outputs": [],
   "source": [
    "def BFS(graph, start):\n",
    "    visited = [0] * len(graph)\n",
    "    queue = deque()\n",
    "    queue.append(start)\n",
    "    visited[start] = 1\n",
    "    \n",
    "    while queue:\n",
    "        select = queue.popleft()\n",
    "        print(select, end=' ')\n",
    "        for g in graph[select]:\n",
    "            if visited[g] == 0:\n",
    "                queue.append(g)\n",
    "                visited[g] = 1\n"
   ]
  },
  {
   "cell_type": "code",
   "execution_count": 8,
   "metadata": {},
   "outputs": [
    {
     "name": "stdout",
     "output_type": "stream",
     "text": [
      "3 1 0 4 2 5 6 "
     ]
    }
   ],
   "source": [
    "BFS(graph, 3)"
   ]
  },
  {
   "cell_type": "markdown",
   "metadata": {},
   "source": [
    "## DFS(깊이 우선 탐색)"
   ]
  },
  {
   "cell_type": "code",
   "execution_count": 9,
   "metadata": {},
   "outputs": [],
   "source": [
    "def DFS(graph, start):\n",
    "    visited = [0] * len(graph)\n",
    "    stack = deque()\n",
    "    stack.append(start)\n",
    "    visited[start] = 1\n",
    "    \n",
    "    while stack:\n",
    "        select = stack.pop()\n",
    "        print(select, end=' ')\n",
    "        for g in graph[select]:\n",
    "            if visited[g] == 0:\n",
    "                stack.append(g)\n",
    "                visited[g] = 1\n",
    "        "
   ]
  },
  {
   "cell_type": "code",
   "execution_count": 10,
   "metadata": {
    "scrolled": true
   },
   "outputs": [
    {
     "name": "stdout",
     "output_type": "stream",
     "text": [
      "3 1 4 0 2 6 5 "
     ]
    }
   ],
   "source": [
    "DFS(graph, 3)"
   ]
  },
  {
   "cell_type": "code",
   "execution_count": null,
   "metadata": {
    "scrolled": true
   },
   "outputs": [],
   "source": [
    "a = []\n",
    "for i in range(6):\n",
    "    insertVertex(a)\n",
    "\n",
    "insertEdge(a,1, 2)\n",
    "insertEdge(a,1, 3)\n",
    "insertEdge(a,2, 4)\n",
    "insertEdge(a,2, 5)\n",
    "insertEdge(a,3, 5)\n",
    "insertEdge(a,3, 4)\n",
    "\n",
    "printList(a)\n",
    "DFS(a, 3)\n",
    "print()\n",
    "BFS(a, 3)"
   ]
  },
  {
   "cell_type": "markdown",
   "metadata": {},
   "source": [
    "## 백준 4803번 문제"
   ]
  },
  {
   "cell_type": "code",
   "execution_count": null,
   "metadata": {
    "scrolled": true
   },
   "outputs": [
    {
     "name": "stdout",
     "output_type": "stream",
     "text": [
      "6 3\n",
      "1 2\n",
      "2 3\n",
      "3 4\n",
      "Case  1 : A forest of  2  trees.\n",
      "0 정점과 연결됨 :  []\n",
      "1 정점과 연결됨 :  [2]\n",
      "2 정점과 연결됨 :  [1, 3]\n",
      "3 정점과 연결됨 :  [2, 4]\n",
      "4 정점과 연결됨 :  [3]\n",
      "5 정점과 연결됨 :  []\n",
      "6 정점과 연결됨 :  []\n",
      "6 5\n",
      "1 2\n",
      "2 3\n",
      "3 4\n",
      "4 5\n",
      "5 6\n",
      "Case  2 : There is one tree.\n",
      "0 정점과 연결됨 :  []\n",
      "1 정점과 연결됨 :  [2]\n",
      "2 정점과 연결됨 :  [1, 3]\n",
      "3 정점과 연결됨 :  [2, 4]\n",
      "4 정점과 연결됨 :  [3, 5]\n",
      "5 정점과 연결됨 :  [4, 6]\n",
      "6 정점과 연결됨 :  [5]\n",
      "6 6\n",
      "1 2\n",
      "2 3\n",
      "1 3\n",
      "4 5\n",
      "5 6\n",
      "6 4\n",
      "Case  3 : A forest of  2  trees.\n",
      "0 정점과 연결됨 :  []\n",
      "1 정점과 연결됨 :  [2, 3]\n",
      "2 정점과 연결됨 :  [1, 3]\n",
      "3 정점과 연결됨 :  [2, 1]\n",
      "4 정점과 연결됨 :  [5, 6]\n",
      "5 정점과 연결됨 :  [4, 6]\n",
      "6 정점과 연결됨 :  [5, 4]\n",
      "4 3\n",
      "1 2\n",
      "2 3\n",
      "1 3\n",
      "Case  4 : There is one tree.\n",
      "0 정점과 연결됨 :  []\n",
      "1 정점과 연결됨 :  [2, 3]\n",
      "2 정점과 연결됨 :  [1, 3]\n",
      "3 정점과 연결됨 :  [2, 1]\n",
      "4 정점과 연결됨 :  []\n",
      "4 2\n",
      "1 2\n",
      "2 3\n",
      "Case  5 : There is one tree.\n",
      "0 정점과 연결됨 :  []\n",
      "1 정점과 연결됨 :  [2]\n",
      "2 정점과 연결됨 :  [1, 3]\n",
      "3 정점과 연결됨 :  [2]\n",
      "4 정점과 연결됨 :  []\n"
     ]
    }
   ],
   "source": [
    "from collections import deque\n",
    "def insertVertex(graph):\n",
    "    graph.append([])\n",
    "    \n",
    "def insertEdge(graph, start, end):\n",
    "    graph[start].append(end)\n",
    "    graph[end].append(start)\n",
    "    \n",
    "def printList(graph):\n",
    "    for i in range(len(graph)):\n",
    "        print(i , '정점과 연결됨 : ', graph[i])\n",
    "    \n",
    "def DFSCheck(graph, start, visited):\n",
    "    \n",
    "    stack = deque()\n",
    "    stack.append(start)\n",
    "    visited[start] = 1\n",
    "    \n",
    "    while stack:\n",
    "        select = stack.pop()\n",
    "        \n",
    "        for g in graph[select]:\n",
    "            if g==0:\n",
    "                return True, visited\n",
    "            if visited[g] == 0:\n",
    "                stack.append(g)\n",
    "                visited[g] = 1\n",
    "            else:\n",
    "                return False, visited\n",
    "        return True, visited\n",
    "        \n",
    "case = 1\n",
    "\n",
    "while True:\n",
    "    n, m = map(int, input().split())\n",
    "    num = -1\n",
    "    if n==0 and m == 0:\n",
    "        break\n",
    "    g = []\n",
    "    \n",
    "    for i in range (n+1):\n",
    "        insertVertex(g)\n",
    "    visited = [0] * len(g)\n",
    "    for i in range (m):\n",
    "        n1, n2 = map(int, input().split())\n",
    "        insertEdge(g, n1, n2)\n",
    "    for i in range (n):\n",
    "        if visited[i] != 1:\n",
    "            a, visited = DFSCheck(g, i, visited)\n",
    "            if(a):\n",
    "                num += 1\n",
    "    print(\"Case \", case, \":\", end = ' ')\n",
    "    if num==1:\n",
    "        print(\"There is one tree.\")\n",
    "    elif num<=0:\n",
    "        print(\"No trees.\")\n",
    "    else:\n",
    "        print(\"A forest of \", num, \" trees.\")\n",
    "    case += 1\n",
    "    printList(g)"
   ]
  },
  {
   "cell_type": "code",
   "execution_count": null,
   "metadata": {},
   "outputs": [],
   "source": []
  }
 ],
 "metadata": {
  "kernelspec": {
   "display_name": "Python 3",
   "language": "python",
   "name": "python3"
  },
  "language_info": {
   "codemirror_mode": {
    "name": "ipython",
    "version": 3
   },
   "file_extension": ".py",
   "mimetype": "text/x-python",
   "name": "python",
   "nbconvert_exporter": "python",
   "pygments_lexer": "ipython3",
   "version": "3.7.7"
  },
  "toc": {
   "base_numbering": 1,
   "nav_menu": {},
   "number_sections": true,
   "sideBar": true,
   "skip_h1_title": false,
   "title_cell": "Table of Contents",
   "title_sidebar": "Contents",
   "toc_cell": false,
   "toc_position": {},
   "toc_section_display": true,
   "toc_window_display": false
  }
 },
 "nbformat": 4,
 "nbformat_minor": 4
}
