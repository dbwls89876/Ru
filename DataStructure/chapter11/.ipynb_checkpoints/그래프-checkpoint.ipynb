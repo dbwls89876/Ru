{
 "cells": [
  {
   "cell_type": "code",
   "execution_count": 1,
   "metadata": {},
   "outputs": [],
   "source": [
    "root = [i for i in range(9)]\n"
   ]
  },
  {
   "cell_type": "code",
   "execution_count": 6,
   "metadata": {},
   "outputs": [],
   "source": [
    "def find(target):\n",
    "    if root[target] == target:\n",
    "        return target;\n",
    "    root[target] = find(root[target])\n",
    "    return root[target]\n",
    "def union(a, b):\n",
    "    a = find(a)\n",
    "    b = find(b)\n",
    "    \n",
    "    if a < b:\n",
    "        root[b] = a\n",
    "    else:\n",
    "        root[a] = b"
   ]
  },
  {
   "cell_type": "code",
   "execution_count": 7,
   "metadata": {},
   "outputs": [
    {
     "data": {
      "text/plain": [
       "[0, 1, 2, 1, 4, 5, 6, 7, 8]"
      ]
     },
     "execution_count": 7,
     "metadata": {},
     "output_type": "execute_result"
    }
   ],
   "source": [
    "union(1, 3)\n",
    "root"
   ]
  },
  {
   "cell_type": "code",
   "execution_count": 9,
   "metadata": {},
   "outputs": [
    {
     "data": {
      "text/plain": [
       "[0, 1, 2, 1, 2, 5, 6, 7, 8]"
      ]
     },
     "execution_count": 9,
     "metadata": {},
     "output_type": "execute_result"
    }
   ],
   "source": [
    "union(2, 4)\n",
    "root"
   ]
  },
  {
   "cell_type": "code",
   "execution_count": 10,
   "metadata": {},
   "outputs": [
    {
     "data": {
      "text/plain": [
       "[0, 1, 2, 1, 2, 2, 6, 7, 8]"
      ]
     },
     "execution_count": 10,
     "metadata": {},
     "output_type": "execute_result"
    }
   ],
   "source": [
    "union(4, 5)\n",
    "root"
   ]
  },
  {
   "cell_type": "code",
   "execution_count": 11,
   "metadata": {
    "scrolled": true
   },
   "outputs": [
    {
     "data": {
      "text/plain": [
       "[0, 1, 1, 1, 2, 2, 6, 7, 8]"
      ]
     },
     "execution_count": 11,
     "metadata": {},
     "output_type": "execute_result"
    }
   ],
   "source": [
    "union(3, 5)\n",
    "root"
   ]
  },
  {
   "cell_type": "code",
   "execution_count": 12,
   "metadata": {},
   "outputs": [
    {
     "data": {
      "text/plain": [
       "1"
      ]
     },
     "execution_count": 12,
     "metadata": {},
     "output_type": "execute_result"
    }
   ],
   "source": [
    "find(5)"
   ]
  },
  {
   "cell_type": "markdown",
   "metadata": {},
   "source": [
    "## 백준문제 1717"
   ]
  },
  {
   "cell_type": "code",
   "execution_count": 1,
   "metadata": {
    "scrolled": false
   },
   "outputs": [
    {
     "name": "stdout",
     "output_type": "stream",
     "text": [
      "7 8\n",
      "0 1 3\n",
      "1 1 7\n",
      "NO\n",
      "0 7 6\n",
      "1 7 1\n",
      "NO\n",
      "0 3 7\n",
      "0 4 2\n",
      "0 1 1\n",
      "1 1 1\n",
      "YES\n"
     ]
    }
   ],
   "source": [
    "import sys\n",
    "#input = sys.stdin.readline\n",
    "#sys.setrecursionlimit(100000)\n",
    "\n",
    "def find(target):\n",
    "    if root[target] == target:\n",
    "        return target;\n",
    "    root[target] = find(root[target])\n",
    "    return root[target]\n",
    "\n",
    "def union(c, a, b):\n",
    "    if(c==0):\n",
    "        a = find(a)\n",
    "        b = find(b)\n",
    "        if a < b:\n",
    "            root[b] = a\n",
    "        else:\n",
    "            root[a] = b\n",
    "    else:\n",
    "        a = find(a)\n",
    "        b = find(b)\n",
    "        if(a == b):\n",
    "            print(\"YES\")\n",
    "        else:\n",
    "            print(\"NO\")\n",
    "    \n",
    "n, m = map(int, input().split())\n",
    "root = [i for i in range(n+1)]\n",
    "for i in range(m):\n",
    "    c, a, b = map(int, input().split())\n",
    "    union(c, a, b)\n"
   ]
  },
  {
   "cell_type": "code",
   "execution_count": 2,
   "metadata": {},
   "outputs": [
    {
     "data": {
      "text/plain": [
       "[0, 1, 2, 1, 2, 5, 1, 6]"
      ]
     },
     "execution_count": 2,
     "metadata": {},
     "output_type": "execute_result"
    }
   ],
   "source": [
    "root"
   ]
  },
  {
   "cell_type": "markdown",
   "metadata": {},
   "source": [
    "## 9372 상근이의 여행"
   ]
  },
  {
   "cell_type": "code",
   "execution_count": 2,
   "metadata": {},
   "outputs": [
    {
     "name": "stdout",
     "output_type": "stream",
     "text": [
      "2\n",
      "3 3\n",
      "1 2\n",
      "2 3\n",
      "1 3\n",
      "2\n",
      "5 4\n",
      "2 1\n",
      "2 3\n",
      "4 3\n",
      "4 5\n",
      "4\n"
     ]
    }
   ],
   "source": [
    "t = int(input())\n",
    "for i in range(t):\n",
    "    n, m = map(int, input().split())\n",
    "    for i in range(m):\n",
    "        a, b = map(int, input().split())\n",
    "    print(n-1)"
   ]
  },
  {
   "cell_type": "markdown",
   "metadata": {},
   "source": [
    "## 크루스칼 알고리즘"
   ]
  },
  {
   "cell_type": "code",
   "execution_count": 3,
   "metadata": {},
   "outputs": [
    {
     "name": "stdout",
     "output_type": "stream",
     "text": [
      "3 3\n",
      "1 2 1\n",
      "2 3 2\n",
      "1 3 3\n",
      "3\n"
     ]
    }
   ],
   "source": [
    "import sys\n",
    "import heapq\n",
    "#input = sys.stdin.readline\n",
    "#sys.setrecursionlimit(100000)\n",
    "\n",
    "def find(target):\n",
    "    if root[target] == target:\n",
    "        return target;\n",
    "    root[target] = find(root[target])\n",
    "    return root[target]\n",
    "def union(a, b):\n",
    "    a = find(a)\n",
    "    b = find(b)\n",
    "\n",
    "    if a < b:\n",
    "        root[b] = a\n",
    "    else:\n",
    "        root[a] = b\n",
    "        \n",
    "v, e = map(int, input().split())\n",
    "heap = []\n",
    "root = [i for i in range(v+1)]\n",
    "\n",
    "for i in range(e):\n",
    "    a, b, c = map(int, input().split())\n",
    "    heapq.heappush(heap, [c, a, b])\n",
    "\n",
    "result = 0\n",
    "while heap:\n",
    "    c, a, b = heapq.heappop(heap)\n",
    "    if find(a) == find(b):\n",
    "        continue\n",
    "    else:\n",
    "        union(a, b)\n",
    "        result += c\n",
    "print(result)"
   ]
  },
  {
   "cell_type": "markdown",
   "metadata": {},
   "source": [
    "## 플로이드 "
   ]
  },
  {
   "cell_type": "code",
   "execution_count": 1,
   "metadata": {},
   "outputs": [
    {
     "name": "stdout",
     "output_type": "stream",
     "text": [
      "5\n",
      "14\n",
      "1 2 2\n",
      "1 3 3\n",
      "1 4 1\n",
      "1 5 10\n",
      "2 4 2\n",
      "3 4 1\n",
      "3 5 1\n",
      "4 5 3\n",
      "3 5 10\n",
      "3 1 8\n",
      "1 4 2\n",
      "5 1 7\n",
      "3 4 2\n",
      "5 2 4\n",
      "02314\n",
      "1201525\n",
      "85011\n",
      "1071303\n",
      "741060\n"
     ]
    }
   ],
   "source": [
    "import sys\n",
    "#INF = sys.maxsize\n",
    "INF = 100\n",
    "\n",
    "n = int(input())\n",
    "m = int(input())\n",
    "matrix = [[INF] * (n+1) for i in range(n+1)]\n",
    "\n",
    "for i in range(m):\n",
    "    a, b, c = map(int, input().split())\n",
    "    matrix[a][b] = min(matrix[a][b], c)\n",
    "\n",
    "for i in range(n+1):\n",
    "    matrix[i][i] = 0\n",
    "    \n",
    "for s in range(1, n+1):\n",
    "    for i in range(1, n+1):\n",
    "        for j in range(1, n+1):\n",
    "            matrix[i][j] = min(matrix[i][j], matrix[i][s] + matrix[s][j])\n",
    "            \n",
    "for i in range(1, n+1):\n",
    "    for j in range(1, n+1):\n",
    "        if matrix[i][j] == INF:\n",
    "            print(0, end=' ')\n",
    "        else:\n",
    "            print(matrix[i][j], end=' ')\n",
    "    print()"
   ]
  },
  {
   "cell_type": "markdown",
   "metadata": {},
   "source": [
    "## 다익스트라"
   ]
  },
  {
   "cell_type": "code",
   "execution_count": 3,
   "metadata": {},
   "outputs": [
    {
     "name": "stdout",
     "output_type": "stream",
     "text": [
      "5 6\n",
      "1\n",
      "5 1 1\n",
      "1 2 2\n",
      "1 3 3\n",
      "2 3 4\n",
      "2 4 5\n",
      "3 4 6\n",
      "0\n",
      "2\n",
      "3\n",
      "7\n",
      "INF\n"
     ]
    }
   ],
   "source": [
    "import heapq\n",
    "import sys\n",
    "#input = sys.stdin.readline\n",
    "#INF = sys.maxsize\n",
    "INF = 100\n",
    "\n",
    "v, e = map(int, input().split())\n",
    "k = int(input())\n",
    "heap = []\n",
    "arr = [INF] * (v+1)\n",
    "graph = [[] for i in range(v+1)]\n",
    "for i in range(e):\n",
    "    u, v, w = map(int, input().split())\n",
    "    graph[u].append([v, w])\n",
    "    \n",
    "arr[k] = 0\n",
    "heapq.heappush(heap, [0, k])\n",
    "\n",
    "while heap:\n",
    "    w, v = heapq.heappop(heap)\n",
    "    \n",
    "    if arr[v] < w:\n",
    "        continue\n",
    "    \n",
    "    for nv, nw in graph[v]:\n",
    "        total = nw + w\n",
    "        if(total < arr[nv]):\n",
    "            arr[nv] = total\n",
    "            heapq.heappush(heap, [total, nv])\n",
    "            \n",
    "for i in arr[1:]:\n",
    "    if i == INF:\n",
    "        print(\"INF\")\n",
    "    else:\n",
    "        print(i)"
   ]
  },
  {
   "cell_type": "code",
   "execution_count": null,
   "metadata": {},
   "outputs": [],
   "source": []
  }
 ],
 "metadata": {
  "kernelspec": {
   "display_name": "Python 3",
   "language": "python",
   "name": "python3"
  },
  "language_info": {
   "codemirror_mode": {
    "name": "ipython",
    "version": 3
   },
   "file_extension": ".py",
   "mimetype": "text/x-python",
   "name": "python",
   "nbconvert_exporter": "python",
   "pygments_lexer": "ipython3",
   "version": "3.7.7"
  },
  "toc": {
   "base_numbering": 1,
   "nav_menu": {},
   "number_sections": true,
   "sideBar": true,
   "skip_h1_title": false,
   "title_cell": "Table of Contents",
   "title_sidebar": "Contents",
   "toc_cell": false,
   "toc_position": {},
   "toc_section_display": true,
   "toc_window_display": false
  },
  "varInspector": {
   "cols": {
    "lenName": 16,
    "lenType": 16,
    "lenVar": 40
   },
   "kernels_config": {
    "python": {
     "delete_cmd_postfix": "",
     "delete_cmd_prefix": "del ",
     "library": "var_list.py",
     "varRefreshCmd": "print(var_dic_list())"
    },
    "r": {
     "delete_cmd_postfix": ") ",
     "delete_cmd_prefix": "rm(",
     "library": "var_list.r",
     "varRefreshCmd": "cat(var_dic_list()) "
    }
   },
   "position": {
    "height": "245.724px",
    "left": "403px",
    "right": "20px",
    "top": "123px",
    "width": "350px"
   },
   "types_to_exclude": [
    "module",
    "function",
    "builtin_function_or_method",
    "instance",
    "_Feature"
   ],
   "window_display": false
  }
 },
 "nbformat": 4,
 "nbformat_minor": 4
}
