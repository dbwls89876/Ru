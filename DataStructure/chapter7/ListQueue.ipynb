{
 "cells": [
  {
   "cell_type": "code",
   "execution_count": 11,
   "metadata": {},
   "outputs": [],
   "source": [
    "class Node:\n",
    "    def __init__(self, data):\n",
    "        self.data = data\n",
    "        self.next = None\n",
    "\n",
    "class ListQueue:\n",
    "    def __init__(self):\n",
    "        self.front = None\n",
    "        self.rear = None\n",
    "    \n",
    "    def empty(self):\n",
    "        if(self.front == None):\n",
    "            return True\n",
    "        else:\n",
    "            return False\n",
    "\n",
    "    \n",
    "    def enqueue(self, data):\n",
    "        newNode = Node(data)\n",
    "        newNode.next = None\n",
    "        \n",
    "        if(self.empty()):\n",
    "            self.front = newNode\n",
    "            self.rear = newNode\n",
    "        else:\n",
    "            self.rear.next = newNode\n",
    "            self.rear = newNode\n",
    "        \n",
    "    def dequeue(self):\n",
    "        if(self.empty()):\n",
    "            return False\n",
    "        \n",
    "        delNode = self.front\n",
    "        delData = delNode.data\n",
    "        self.front = self.front.next\n",
    "        delNode = None\n",
    "        return delData\n",
    " \n",
    "    \n",
    "    def peek(self):\n",
    "        if self.empty():\n",
    "            return False\n",
    "        return self.front.data\n",
    "    "
   ]
  },
  {
   "cell_type": "code",
   "execution_count": 12,
   "metadata": {},
   "outputs": [
    {
     "name": "stdout",
     "output_type": "stream",
     "text": [
      "1\n",
      "2\n",
      "3\n",
      "4\n",
      "5\n"
     ]
    }
   ],
   "source": [
    "q = ListQueue()\n",
    "q.enqueue(1)\n",
    "q.enqueue(2)\n",
    "q.enqueue(3)\n",
    "q.enqueue(4)\n",
    "q.enqueue(5)\n",
    "\n",
    "while(q.empty()==False):\n",
    "    print(q.dequeue())"
   ]
  },
  {
   "cell_type": "code",
   "execution_count": null,
   "metadata": {},
   "outputs": [],
   "source": []
  }
 ],
 "metadata": {
  "kernelspec": {
   "display_name": "Python 3",
   "language": "python",
   "name": "python3"
  },
  "language_info": {
   "codemirror_mode": {
    "name": "ipython",
    "version": 3
   },
   "file_extension": ".py",
   "mimetype": "text/x-python",
   "name": "python",
   "nbconvert_exporter": "python",
   "pygments_lexer": "ipython3",
   "version": "3.7.7"
  }
 },
 "nbformat": 4,
 "nbformat_minor": 4
}
