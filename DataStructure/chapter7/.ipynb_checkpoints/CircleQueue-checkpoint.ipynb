{
 "cells": [
  {
   "cell_type": "code",
   "execution_count": 7,
   "metadata": {},
   "outputs": [],
   "source": [
    "QUE_LEN = 100\n",
    "\n",
    "class CircleQueue:\n",
    "    def __init__(self):\n",
    "        self.front = 0\n",
    "        self.rear = 0\n",
    "        self.arr = [0] * 100\n",
    "    \n",
    "    def empty(self):\n",
    "        if(self.front == self.rear):\n",
    "            return True\n",
    "        else:\n",
    "            return False\n",
    "    \n",
    "    def nextPos(self, pos):\n",
    "        if pos == QUE_LEN-1:\n",
    "            return 0\n",
    "        else:\n",
    "            return pos+1\n",
    "    \n",
    "    def enqueue(self, data):\n",
    "        if self.nextPos(self.rear) == self.front:\n",
    "            return False\n",
    "        \n",
    "        self.rear = self.nextPos(self.rear)\n",
    "        self.arr[self.rear] = data\n",
    "        \n",
    "    def dequeue(self):\n",
    "        if self.empty():\n",
    "            return False\n",
    "        self.front = self.nextPos(self.front)\n",
    "        return self.arr[self.front]\n",
    "    \n",
    "    def peek(self):\n",
    "        if self.empty():\n",
    "            return False\n",
    "        return self.arr[self.nextPos(self.front)]"
   ]
  },
  {
   "cell_type": "code",
   "execution_count": 8,
   "metadata": {},
   "outputs": [
    {
     "name": "stdout",
     "output_type": "stream",
     "text": [
      "1\n",
      "2\n",
      "3\n",
      "4\n",
      "5\n"
     ]
    }
   ],
   "source": [
    "q = CircleQueue()\n",
    "q.enqueue(1)\n",
    "q.enqueue(2)\n",
    "q.enqueue(3)\n",
    "q.enqueue(4)\n",
    "q.enqueue(5)\n",
    "\n",
    "while(q.empty()==False):\n",
    "    print(q.dequeue())"
   ]
  },
  {
   "cell_type": "code",
   "execution_count": null,
   "metadata": {},
   "outputs": [],
   "source": []
  }
 ],
 "metadata": {
  "kernelspec": {
   "display_name": "Python 3",
   "language": "python",
   "name": "python3"
  },
  "language_info": {
   "codemirror_mode": {
    "name": "ipython",
    "version": 3
   },
   "file_extension": ".py",
   "mimetype": "text/x-python",
   "name": "python",
   "nbconvert_exporter": "python",
   "pygments_lexer": "ipython3",
   "version": "3.7.7"
  }
 },
 "nbformat": 4,
 "nbformat_minor": 4
}
