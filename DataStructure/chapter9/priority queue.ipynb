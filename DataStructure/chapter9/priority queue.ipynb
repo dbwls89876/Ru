{
 "cells": [
  {
   "cell_type": "markdown",
   "metadata": {},
   "source": [
    "## 힙"
   ]
  },
  {
   "cell_type": "code",
   "execution_count": 14,
   "metadata": {},
   "outputs": [],
   "source": [
    "MAX_ELEMENT = 200\n",
    "class Heap:\n",
    "    def __init__(self):\n",
    "        self.heap = [0] * MAX_ELEMENT\n",
    "        self.heapSize = 0\n",
    "        \n",
    "    \n",
    "    def insertMaxHeap(self, item):\n",
    "        self.heapSize += 1\n",
    "        i = self.heapSize\n",
    "        while i != 1 and item > self.heap[i//2]:\n",
    "            self.heap[i] = self.heap[i//2];\n",
    "            i//=2\n",
    "        self.heap[i] = item\n",
    "        \n",
    "    def deleteMaxHeap(self):\n",
    "        item = self.heap[1]\n",
    "        temp = self.heap[self.heapSize]\n",
    "        self.heapSize -=1\n",
    "        parent = 1\n",
    "        child = 2\n",
    "        while(child <= self.heapSize):\n",
    "            if child < self.heapSize and self.heap[child] < self.heap[child+1]:\n",
    "                child+=1\n",
    "            if temp >= self.heap[child]:\n",
    "                break\n",
    "            self.heap[parent] = self.heap[child]\n",
    "            parent = child\n",
    "            child *= 2\n",
    "        self.heap[parent] = temp\n",
    "        return item\n",
    "         \n",
    "    def insertMinHeap(self, item):\n",
    "        self.heapSize += 1\n",
    "        i = self.heapSize\n",
    "        while i != 1 and item < self.heap[i//2]:\n",
    "            self.heap[i] = self.heap[i//2];\n",
    "            i//=2\n",
    "        self.heap[i] = item\n",
    "                \n",
    "    def deleteMinHeap(self):\n",
    "        item = self.heap[1]\n",
    "        temp = self.heap[self.heapSize]\n",
    "        self.heapSize -=1\n",
    "        parent = 1\n",
    "        child = 2\n",
    "        while(child <= self.heapSize):\n",
    "            if child < self.heapSize and self.heap[child] > self.heap[child+1]:\n",
    "                child+=1\n",
    "            if temp < self.heap[child]:\n",
    "                break\n",
    "            self.heap[parent] = self.heap[child]\n",
    "            parent = child\n",
    "            child *= 2\n",
    "        self.heap[parent] = temp\n",
    "        return item\n",
    "    "
   ]
  },
  {
   "cell_type": "code",
   "execution_count": 15,
   "metadata": {},
   "outputs": [
    {
     "name": "stdout",
     "output_type": "stream",
     "text": [
      "30 10 5\n"
     ]
    }
   ],
   "source": [
    "heap = Heap()\n",
    "heap.insertMaxHeap(10)\n",
    "heap.insertMaxHeap(5)\n",
    "heap.insertMaxHeap(30)\n",
    "\n",
    "n1 = heap.deleteMaxHeap()\n",
    "n2 = heap.deleteMaxHeap()\n",
    "n3 = heap.deleteMaxHeap()\n",
    "print(n1, n2, n3)"
   ]
  },
  {
   "cell_type": "code",
   "execution_count": 16,
   "metadata": {},
   "outputs": [
    {
     "name": "stdout",
     "output_type": "stream",
     "text": [
      "99\n",
      "56\n",
      "36\n",
      "27\n",
      "25\n",
      "23\n",
      "11\n",
      "9\n"
     ]
    }
   ],
   "source": [
    "data = [23, 25, 11, 9, 56, 99, 27, 36]\n",
    "for arr in data:\n",
    "    heap.insertMaxHeap(arr)\n",
    "while heap.heapSize!=0:\n",
    "    print(heap.deleteMaxHeap())"
   ]
  },
  {
   "cell_type": "markdown",
   "metadata": {},
   "source": [
    "## 최소힙"
   ]
  },
  {
   "cell_type": "code",
   "execution_count": 20,
   "metadata": {},
   "outputs": [
    {
     "name": "stdout",
     "output_type": "stream",
     "text": [
      "9\n",
      "11\n",
      "23\n",
      "25\n",
      "27\n",
      "36\n",
      "56\n",
      "99\n"
     ]
    }
   ],
   "source": [
    "minHeap = Heap()\n",
    "data = [23, 25, 11, 9, 56, 99, 27, 36]\n",
    "for arr in data:\n",
    "    minHeap.insertMinHeap(arr)\n",
    "while minHeap.heapSize!=0:\n",
    "    print(minHeap.deleteMinHeap())"
   ]
  },
  {
   "cell_type": "markdown",
   "metadata": {},
   "source": [
    "## 허프만 코드"
   ]
  },
  {
   "cell_type": "code",
   "execution_count": null,
   "metadata": {},
   "outputs": [],
   "source": [
    "class TreeNode:\n",
    "    def __init__(self):\n",
    "        self.weight = 0\n",
    "        self.ch = 0\n",
    "        self.right = None\n",
    "        self.weight = None\n",
    "        \n",
    "class Element:\n",
    "    def __init__(self):\n",
    "        self.tree\n",
    "        self.ch\n",
    "        self.key\n",
    "\n"
   ]
  }
 ],
 "metadata": {
  "kernelspec": {
   "display_name": "Python 3",
   "language": "python",
   "name": "python3"
  },
  "language_info": {
   "codemirror_mode": {
    "name": "ipython",
    "version": 3
   },
   "file_extension": ".py",
   "mimetype": "text/x-python",
   "name": "python",
   "nbconvert_exporter": "python",
   "pygments_lexer": "ipython3",
   "version": "3.7.7"
  },
  "toc": {
   "base_numbering": 1,
   "nav_menu": {},
   "number_sections": true,
   "sideBar": true,
   "skip_h1_title": false,
   "title_cell": "Table of Contents",
   "title_sidebar": "Contents",
   "toc_cell": false,
   "toc_position": {},
   "toc_section_display": true,
   "toc_window_display": false
  }
 },
 "nbformat": 4,
 "nbformat_minor": 4
}
