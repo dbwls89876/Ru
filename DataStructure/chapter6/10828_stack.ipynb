{
 "cells": [
  {
   "cell_type": "code",
   "execution_count": 45,
   "metadata": {},
   "outputs": [],
   "source": [
    "class Node:\n",
    "    def __init__(self, data):\n",
    "        self.data = data\n",
    "        self.next = None\n",
    "\n",
    "class ListStack:\n",
    "\n",
    "    def __init__(self):\n",
    "        self.head = None\n",
    "        length = 0\n",
    "    \n",
    "    def empty(self):\n",
    "        if(self.head == None):\n",
    "            return 1\n",
    "        else:\n",
    "            return 0\n",
    "        \n",
    "    def push(self, data):\n",
    "        newNode = Node(data)\n",
    "        newNode.next = self.head\n",
    "        self.head = newNode\n",
    "        self.length+=1\n",
    "        \n",
    "    def pop(self):\n",
    "        if(self.empty()):\n",
    "            return -1\n",
    "        self.length-=1\n",
    "\n",
    "        data = self.head.data  \n",
    "        self.head = self.head.next\n",
    "        return data\n",
    "        \n",
    "    def top(self):\n",
    "        if(self.empty()):\n",
    "            return -1\n",
    "        return self.head.data\n",
    "    \n",
    "    def size(self):\n",
    "        return self.length"
   ]
  },
  {
   "cell_type": "code",
   "execution_count": 46,
   "metadata": {
    "scrolled": false
   },
   "outputs": [
    {
     "name": "stdout",
     "output_type": "stream",
     "text": [
      "7\n",
      "pop\n",
      "-1\n",
      "top\n",
      "-1\n",
      "push 123\n",
      "top\n",
      "123\n",
      "pop\n",
      "123\n",
      "top\n",
      "-1\n",
      "pop\n",
      "-1\n"
     ]
    }
   ],
   "source": [
    "import sys\n",
    "#input = sys.stdin.readline\n",
    "s = ListStack()\n",
    "num = int(input())\n",
    "for i in range(0, num):\n",
    "    c = input()\n",
    "    if 'push' in c:\n",
    "        dummy, n = c.split()\n",
    "        s.push(n)\n",
    "    elif c=='top':\n",
    "        print(s.top())\n",
    "    elif c=='size':\n",
    "        print(s.size())\n",
    "    elif c=='empty':\n",
    "        print(s.empty())\n",
    "    elif c=='pop':\n",
    "        print(s.pop())"
   ]
  },
  {
   "cell_type": "code",
   "execution_count": null,
   "metadata": {},
   "outputs": [],
   "source": []
  }
 ],
 "metadata": {
  "kernelspec": {
   "display_name": "Python 3",
   "language": "python",
   "name": "python3"
  },
  "language_info": {
   "codemirror_mode": {
    "name": "ipython",
    "version": 3
   },
   "file_extension": ".py",
   "mimetype": "text/x-python",
   "name": "python",
   "nbconvert_exporter": "python",
   "pygments_lexer": "ipython3",
   "version": "3.7.7"
  }
 },
 "nbformat": 4,
 "nbformat_minor": 4
}
