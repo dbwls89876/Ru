{
 "cells": [
  {
   "cell_type": "code",
   "execution_count": 31,
   "metadata": {},
   "outputs": [],
   "source": [
    "class Node:\n",
    "    def __init__(self, data):\n",
    "        self.data = data\n",
    "        self.next = None\n",
    "\n",
    "class ListStack:\n",
    "    def __init__(self):\n",
    "        self.head = None\n",
    "    def isEmpty(self):\n",
    "        if(self.head == None):\n",
    "            return True\n",
    "        else:\n",
    "            return False\n",
    "    def push(self, data):\n",
    "        newNode = Node(data)\n",
    "        newNode.next = self.head\n",
    "        self.head = newNode\n",
    "        \n",
    "    def pop(self):\n",
    "        if(self.isEmpty()):\n",
    "            print(\"데이터가 없습니다\")\n",
    "            exit(1)\n",
    "        data = self.head.data  \n",
    "        self.head = self.head.next\n",
    "        return data\n",
    "        \n",
    "    def peek(self):\n",
    "        if(self.isEmpty()):\n",
    "            print(\"데이터가 없습니다\")\n",
    "            exit(1)\n",
    "        return self.head.data"
   ]
  },
  {
   "cell_type": "code",
   "execution_count": 34,
   "metadata": {
    "scrolled": true
   },
   "outputs": [],
   "source": [
    "def convertPrefix(infix):\n",
    "    s = ListStack()\n",
    "    infix = list(infix)\n",
    "    idx=0\n",
    "    prefix = []# 값을 저장할 배열\n",
    "    popOperator = None\n",
    "    for tok in infix:\n",
    "        if tok.isdigit():\n",
    "            prefix.append(tok)\n",
    "        else:\n",
    "            if tok=='(':\n",
    "                s.push(tok)\n",
    "            elif tok==')':\n",
    "                while(1):\n",
    "                    popOperator = s.pop() # s 가 연산자를 하나씩 반환한다\n",
    "                    if popOperator == '(': # (가 반환될 시 반복문 탈출\n",
    "                        break;\n",
    "                    prefix.append(popOperator) # 괄호 안에 있는 연산자들이 prefix 배열에 들어간다\n",
    "            elif tok in ['+', '-', '*', '/']:\n",
    "                while(s.isEmpty()==False and comparePriorityOperator(s.peek(), tok)>=0):\n",
    "                    prefix.append(s.pop())\n",
    "                s.push(tok) # s배열의 마지막에 위치한 연산자의 \n",
    "        \n",
    "    while (s.isEmpty()==False):\n",
    "        prefix.append(s.pop())\n",
    "\n",
    "    return prefix\n",
    "        \n",
    "def getOperatorPriority(operator): #연산자 우선순위 정보 반환\n",
    "    if operator in ['*', '/']:\n",
    "        return 3\n",
    "    if operator in ['+', '-']:\n",
    "        return 2\n",
    "    if operator == '(':\n",
    "        return 1\n",
    "    return -1\n",
    "def comparePriorityOperator(op1,op2): #연산자 우선순위 구분\n",
    "    opNum1 = getOperatorPriority(op1) # s내의 마지막에 위치한 연산자\n",
    "    opNum2 = getOperatorPriority(op2) # tok에 들어가있는 연산자\n",
    "    \n",
    "    if(opNum1>opNum2):\n",
    "        return 1\n",
    "    elif opNum1<opNum2:\n",
    "        return -1\n",
    "    else:\n",
    "        return 0\n",
    "    \n"
   ]
  },
  {
   "cell_type": "code",
   "execution_count": 35,
   "metadata": {
    "scrolled": true
   },
   "outputs": [
    {
     "name": "stdout",
     "output_type": "stream",
     "text": [
      "123*+\n",
      "12+3*\n",
      "12-3+52-*\n"
     ]
    }
   ],
   "source": [
    "arr1 = \"1+2*3\"\n",
    "arr2 = \"(1+2)*3\"\n",
    "arr3 = \"((1-2)+3)*(5-2)\"\n",
    "arr1 = convertPrefix(arr1)\n",
    "arr2 = convertPrefix(arr2)\n",
    "arr3 = convertPrefix(arr3)\n",
    "\n",
    "arr1 = ''.join(arr1)\n",
    "arr2 = ''.join(arr2)\n",
    "arr3 = ''.join(arr3)\n",
    "\n",
    "print(arr1)\n",
    "print(arr2)\n",
    "print(arr3)\n",
    "\n"
   ]
  },
  {
   "cell_type": "code",
   "execution_count": null,
   "metadata": {},
   "outputs": [],
   "source": []
  },
  {
   "cell_type": "code",
   "execution_count": null,
   "metadata": {},
   "outputs": [],
   "source": []
  }
 ],
 "metadata": {
  "kernelspec": {
   "display_name": "Python 3",
   "language": "python",
   "name": "python3"
  },
  "language_info": {
   "codemirror_mode": {
    "name": "ipython",
    "version": 3
   },
   "file_extension": ".py",
   "mimetype": "text/x-python",
   "name": "python",
   "nbconvert_exporter": "python",
   "pygments_lexer": "ipython3",
   "version": "3.7.7"
  },
  "toc": {
   "base_numbering": 1,
   "nav_menu": {},
   "number_sections": true,
   "sideBar": true,
   "skip_h1_title": false,
   "title_cell": "Table of Contents",
   "title_sidebar": "Contents",
   "toc_cell": false,
   "toc_position": {},
   "toc_section_display": true,
   "toc_window_display": false
  },
  "varInspector": {
   "cols": {
    "lenName": 16,
    "lenType": 16,
    "lenVar": 40
   },
   "kernels_config": {
    "python": {
     "delete_cmd_postfix": "",
     "delete_cmd_prefix": "del ",
     "library": "var_list.py",
     "varRefreshCmd": "print(var_dic_list())"
    },
    "r": {
     "delete_cmd_postfix": ") ",
     "delete_cmd_prefix": "rm(",
     "library": "var_list.r",
     "varRefreshCmd": "cat(var_dic_list()) "
    }
   },
   "types_to_exclude": [
    "module",
    "function",
    "builtin_function_or_method",
    "instance",
    "_Feature"
   ],
   "window_display": false
  }
 },
 "nbformat": 4,
 "nbformat_minor": 4
}
