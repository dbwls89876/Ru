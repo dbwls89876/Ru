{
 "cells": [
  {
   "cell_type": "code",
   "execution_count": 27,
   "metadata": {},
   "outputs": [],
   "source": [
    "class Node:\n",
    "    def __init__(self, data):\n",
    "        self.data = data\n",
    "        self.next = None\n",
    "\n",
    "class ListStack:\n",
    "    def __init__(self):\n",
    "        self.head = None\n",
    "    def isEmpty(self):\n",
    "        if(self.head == None):\n",
    "            return True\n",
    "        else:\n",
    "            return False\n",
    "    def push(self, data):\n",
    "        newNode = Node(data)\n",
    "        newNode.next = self.head\n",
    "        self.head = newNode\n",
    "        \n",
    "    def pop(self):\n",
    "        if(self.isEmpty()):\n",
    "            print(\"데이터가 없습니다\")\n",
    "            exit(1)\n",
    "        data = self.head.data  \n",
    "        self.head = self.head.next\n",
    "        return data\n",
    "        \n",
    "    def peek(self):\n",
    "        if(self.isEmpty()):\n",
    "            print(\"데이터가 없습니다\")\n",
    "            exit(1)\n",
    "        return self.head.data"
   ]
  },
  {
   "cell_type": "code",
   "execution_count": 28,
   "metadata": {
    "scrolled": true
   },
   "outputs": [
    {
     "name": "stdout",
     "output_type": "stream",
     "text": [
      "3\n",
      "2\n",
      "1\n"
     ]
    }
   ],
   "source": [
    "s = ListStack()\n",
    "s.push(1)\n",
    "s.push(2)\n",
    "s.push(3)\n",
    "\n",
    "s.peek()\n",
    "\n",
    "while(s.isEmpty()==False):\n",
    "    print(s.pop())"
   ]
  },
  {
   "cell_type": "code",
   "execution_count": null,
   "metadata": {},
   "outputs": [],
   "source": []
  }
 ],
 "metadata": {
  "kernelspec": {
   "display_name": "Python 3",
   "language": "python",
   "name": "python3"
  },
  "language_info": {
   "codemirror_mode": {
    "name": "ipython",
    "version": 3
   },
   "file_extension": ".py",
   "mimetype": "text/x-python",
   "name": "python",
   "nbconvert_exporter": "python",
   "pygments_lexer": "ipython3",
   "version": "3.7.7"
  }
 },
 "nbformat": 4,
 "nbformat_minor": 4
}
