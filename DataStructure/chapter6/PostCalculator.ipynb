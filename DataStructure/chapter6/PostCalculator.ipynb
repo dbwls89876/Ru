{
 "cells": [
  {
   "cell_type": "code",
   "execution_count": 17,
   "metadata": {},
   "outputs": [],
   "source": [
    "class Node:\n",
    "    def __init__(self, data):\n",
    "        self.data = data\n",
    "        self.next = None\n",
    "\n",
    "class ListStack:\n",
    "    def __init__(self):\n",
    "        self.head = None\n",
    "    def isEmpty(self):\n",
    "        if(self.head == None):\n",
    "            return True\n",
    "        else:\n",
    "            return False\n",
    "    def push(self, data):\n",
    "        newNode = Node(data)\n",
    "        newNode.next = self.head\n",
    "        self.head = newNode\n",
    "        \n",
    "    def pop(self):\n",
    "        if(self.isEmpty()):\n",
    "            print(\"데이터가 없습니다\")\n",
    "            exit(1)\n",
    "        data = self.head.data  \n",
    "        self.head = self.head.next\n",
    "        return data\n",
    "        \n",
    "    def peek(self):\n",
    "        if(self.isEmpty()):\n",
    "            print(\"데이터가 없습니다\")\n",
    "            exit(1)\n",
    "        return self.head.data"
   ]
  },
  {
   "cell_type": "code",
   "execution_count": 18,
   "metadata": {},
   "outputs": [],
   "source": [
    "def evaluatePrefix(prefix):\n",
    "    s = ListStack()\n",
    "    for token in prefix:\n",
    "        if token.isdigit():\n",
    "            s.push(int(token))\n",
    "        else:\n",
    "            num2 = s.pop()\n",
    "            num1 = s.pop()\n",
    "            \n",
    "            if token == '+':\n",
    "                s.push(num1+num2)\n",
    "            elif token == '-':\n",
    "                s.push(num1-num2)\n",
    "            elif token == '*':\n",
    "                s.push(num1*num2)\n",
    "            elif token == '/':\n",
    "                s.push(num1//num2)\n",
    "    return s.pop()"
   ]
  },
  {
   "cell_type": "code",
   "execution_count": 19,
   "metadata": {
    "scrolled": true
   },
   "outputs": [
    {
     "name": "stdout",
     "output_type": "stream",
     "text": [
      "42*8+  ->  16\n",
      "123+*4/  ->  1\n"
     ]
    }
   ],
   "source": [
    "arr1 = \"42*8+\"\n",
    "arr2 = \"123+*4/\"\n",
    "n1 = evaluatePrefix(arr1)\n",
    "n2 = evaluatePrefix(arr2)\n",
    "print(arr1, \" -> \" , n1)\n",
    "\n",
    "print(arr2, \" -> \", n2)\n"
   ]
  },
  {
   "cell_type": "code",
   "execution_count": null,
   "metadata": {},
   "outputs": [],
   "source": []
  }
 ],
 "metadata": {
  "kernelspec": {
   "display_name": "Python 3",
   "language": "python",
   "name": "python3"
  },
  "language_info": {
   "codemirror_mode": {
    "name": "ipython",
    "version": 3
   },
   "file_extension": ".py",
   "mimetype": "text/x-python",
   "name": "python",
   "nbconvert_exporter": "python",
   "pygments_lexer": "ipython3",
   "version": "3.7.7"
  }
 },
 "nbformat": 4,
 "nbformat_minor": 4
}
