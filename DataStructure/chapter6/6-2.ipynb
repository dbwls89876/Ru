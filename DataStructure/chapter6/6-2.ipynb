{
 "cells": [
  {
   "cell_type": "code",
   "execution_count": 11,
   "metadata": {},
   "outputs": [],
   "source": [
    "class Stack:\n",
    "    def __init__(self):\n",
    "        self.arr = []\n",
    "        self.topIndex = -1\n",
    "\n",
    "    def empty(self):\n",
    "        if(self.topIndex == -1):\n",
    "            return True\n",
    "        else:\n",
    "            return False\n",
    "    \n",
    "    def push(self, data):\n",
    "        self.arr.append(data)\n",
    "        self.topIndex += 1\n",
    "    \n",
    "    def pop(self):\n",
    "        num = self.topIndex\n",
    "        if(self.empty()):\n",
    "            print(\"데이터 없음\")\n",
    "            exit(-1)\n",
    "        self.topIndex -= 1\n",
    "        return self.arr[num]\n",
    "    \n",
    "    def peek(self):\n",
    "        if self.empty():\n",
    "            print(\"데이터 없음\")\n",
    "            exit(-1)\n",
    "            \n",
    "        return self.arr[self.topIndex]"
   ]
  },
  {
   "cell_type": "code",
   "execution_count": 19,
   "metadata": {},
   "outputs": [
    {
     "name": "stdout",
     "output_type": "stream",
     "text": [
      "4\n",
      "4\n",
      "3\n",
      "2\n",
      "1\n"
     ]
    }
   ],
   "source": [
    "stack = Stack()\n",
    "\n",
    "stack.push(1)\n",
    "stack.push(2)\n",
    "stack.push(3)\n",
    "stack.push(4)\n",
    "\n",
    "print(stack.peek())\n",
    "\n",
    "while stack.empty() != True:\n",
    "    print(stack.pop())"
   ]
  },
  {
   "cell_type": "code",
   "execution_count": null,
   "metadata": {},
   "outputs": [],
   "source": []
  }
 ],
 "metadata": {
  "kernelspec": {
   "display_name": "Python 3",
   "language": "python",
   "name": "python3"
  },
  "language_info": {
   "codemirror_mode": {
    "name": "ipython",
    "version": 3
   },
   "file_extension": ".py",
   "mimetype": "text/x-python",
   "name": "python",
   "nbconvert_exporter": "python",
   "pygments_lexer": "ipython3",
   "version": "3.7.7"
  }
 },
 "nbformat": 4,
 "nbformat_minor": 4
}
