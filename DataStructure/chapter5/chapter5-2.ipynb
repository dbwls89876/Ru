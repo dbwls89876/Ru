{
 "cells": [
  {
   "cell_type": "markdown",
   "metadata": {},
   "source": [
    "## 양방향 연결리스트"
   ]
  },
  {
   "cell_type": "code",
   "execution_count": 74,
   "metadata": {},
   "outputs": [],
   "source": [
    "class Node:\n",
    "    def __init__(self, data):\n",
    "        self.data = data\n",
    "        self.next = None\n",
    "        self.prev = None\n",
    "\n",
    "class DoubleList:\n",
    "    def __init__(self):\n",
    "        self.head = Node(\"dummy\")\n",
    "        self.tail = Node(\"dummy\")                                      \n",
    "        self.head.next = self.tail\n",
    "        self.tail.prev = self.head\n",
    "        self.cur = None\n",
    "        self.num = 0;\n",
    "        \n",
    "        \n",
    "    def listInsert(self, data):\n",
    "        newNode = Node(data)\n",
    "        newNode.next = self.tail\n",
    "        newNode.prev = self.tail.prev\n",
    "        \n",
    "        \n",
    "        self.tail.prev.next = newNode\n",
    "        self.tail.prev = newNode \n",
    "        \n",
    "        self.num+=1\n",
    "        \n",
    "    def listFirst(self):\n",
    "        if(self.head.next == self.tail):\n",
    "            return False\n",
    "        self.cur = self.head.next\n",
    "        return self.cur.data\n",
    "    \n",
    "    def listNext(self):\n",
    "        if(self.cur.prev == self.tail):\n",
    "            return False\n",
    "        self.cur = self.cur.next\n",
    "        return self.cur.data\n",
    "    \n",
    "    def listPrevious(self):\n",
    "        if(self.cur.prev == self.head):\n",
    "            return False\n",
    "        self.cur = self.cur.prev\n",
    "        return self.cur.data\n",
    "    \n",
    "    def listRemove(self):\n",
    "        if(self.cur.prev == self.head):\n",
    "            return False\n",
    "        data = self.cur.data\n",
    "        self.cur.next.prev = self.cur.prev\n",
    "        self.cur.prev.next = self.cur.next\n",
    "        return data\n",
    "    \n",
    "    def listCount(self):\n",
    "        return self.num"
   ]
  },
  {
   "cell_type": "code",
   "execution_count": 75,
   "metadata": {},
   "outputs": [],
   "source": [
    "list = DoubleList()\n",
    "list.listInsert(1)\n",
    "list.listInsert(2)\n",
    "list.listInsert(3)\n",
    "list.listInsert(4)\n",
    "list.listInsert(5)\n"
   ]
  },
  {
   "cell_type": "code",
   "execution_count": 77,
   "metadata": {
    "scrolled": false
   },
   "outputs": [
    {
     "name": "stdout",
     "output_type": "stream",
     "text": [
      "1\n",
      "2\n",
      "4\n",
      "4\n",
      "5\n",
      "dummy\n",
      "5\n",
      "2\n",
      "1\n",
      "False\n"
     ]
    }
   ],
   "source": [
    "print(list.listFirst())\n",
    "print(list.listNext())\n",
    "print(list.listNext())\n",
    "print(list.listRemove())\n",
    "print(list.listNext())\n",
    "print(list.listNext())\n",
    "\n",
    "print(list.listPrevious())\n",
    "print(list.listPrevious())\n",
    "print(list.listPrevious())\n",
    "print(list.listPrevious())"
   ]
  },
  {
   "cell_type": "code",
   "execution_count": null,
   "metadata": {},
   "outputs": [],
   "source": []
  }
 ],
 "metadata": {
  "kernelspec": {
   "display_name": "Python 3",
   "language": "python",
   "name": "python3"
  },
  "language_info": {
   "codemirror_mode": {
    "name": "ipython",
    "version": 3
   },
   "file_extension": ".py",
   "mimetype": "text/x-python",
   "name": "python",
   "nbconvert_exporter": "python",
   "pygments_lexer": "ipython3",
   "version": "3.7.7"
  }
 },
 "nbformat": 4,
 "nbformat_minor": 4
}
