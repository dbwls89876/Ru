{
 "cells": [
  {
   "cell_type": "code",
   "execution_count": 105,
   "metadata": {},
   "outputs": [],
   "source": [
    "class Bread:\n",
    "    CREAM_BREAD_TYPE = \"0\"\n",
    "    SUGAR_BREAD_TYPE = \"1\"\n",
    "    BUTTER_BREAD_TYPE = \"2\"\n",
    "    \n",
    "    def __init__(self):\n",
    "        self.breadType = None\n",
    "        self.flour = None\n",
    "        self.water = None\n",
    "        self.ingredient = None\n",
    "        \n",
    "    def recipe(self):\n",
    "        print(\"breadType: \" + self.breadType)\n",
    "        print(\"recipe\")\n",
    "        print(\"flour: \" + str(self.flour))\n",
    "        print(\"water: \" + str(self.water))\n",
    "        print(\"cream: \" + str(self.ingredient))\n",
    "\n",
    "class Cream(Bread):\n",
    "    def __init__(self):\n",
    "        self.breadType = \"cream\"\n",
    "        self.flour = 100\n",
    "        self.water = 100\n",
    "        self.ingredient = 200   \n",
    "\n",
    "class Sugar(Bread):\n",
    "    def __init__(self):\n",
    "        self.breadType = \"sugar\"\n",
    "        self.flour = 100\n",
    "        self.water = 50\n",
    "        self.ingredient = 200\n",
    "\n",
    "class Butter(Bread):\n",
    "    def __init__(self):\n",
    "        self.breadType = \"Butter\"\n",
    "        self.flour = 100\n",
    "        self.water = 100\n",
    "        self.ingredient = 50\n",
    "\n",
    "class BreadFactory:\n",
    "    dict = {0 : Cream(),\n",
    "        1 : Sugar(),\n",
    "        2 : Butter()}\n",
    "    def createBread(self, breadType):\n",
    "        return dict[breadType] # type object가 return이 안되니 다른방법 찾아보기"
   ]
  },
  {
   "cell_type": "code",
   "execution_count": 106,
   "metadata": {
    "scrolled": true
   },
   "outputs": [
    {
     "ename": "TypeError",
     "evalue": "'type' object is not subscriptable",
     "output_type": "error",
     "traceback": [
      "\u001b[1;31m---------------------------------------------------------------------------\u001b[0m",
      "\u001b[1;31mTypeError\u001b[0m                                 Traceback (most recent call last)",
      "\u001b[1;32m<ipython-input-106-5cc8efadf22d>\u001b[0m in \u001b[0;36m<module>\u001b[1;34m\u001b[0m\n\u001b[1;32m----> 1\u001b[1;33m \u001b[0mbreadList\u001b[0m \u001b[1;33m=\u001b[0m \u001b[0mBreadFactory\u001b[0m\u001b[1;33m(\u001b[0m\u001b[1;33m)\u001b[0m\u001b[1;33m.\u001b[0m\u001b[0mcreateBread\u001b[0m\u001b[1;33m(\u001b[0m\u001b[1;36m0\u001b[0m\u001b[1;33m)\u001b[0m\u001b[1;33m\u001b[0m\u001b[1;33m\u001b[0m\u001b[0m\n\u001b[0m\u001b[0;32m      2\u001b[0m \u001b[0mprint\u001b[0m\u001b[1;33m(\u001b[0m\u001b[0mbreadList\u001b[0m\u001b[1;33m.\u001b[0m\u001b[0mrecipe\u001b[0m\u001b[1;33m(\u001b[0m\u001b[1;33m)\u001b[0m\u001b[1;33m)\u001b[0m\u001b[1;33m\u001b[0m\u001b[1;33m\u001b[0m\u001b[0m\n\u001b[0;32m      3\u001b[0m \u001b[1;33m\u001b[0m\u001b[0m\n\u001b[0;32m      4\u001b[0m \u001b[1;31m# for i in range(3):\u001b[0m\u001b[1;33m\u001b[0m\u001b[1;33m\u001b[0m\u001b[1;33m\u001b[0m\u001b[0m\n\u001b[0;32m      5\u001b[0m \u001b[1;31m#     breadList.append(BreadFactory().createBread(i))\u001b[0m\u001b[1;33m\u001b[0m\u001b[1;33m\u001b[0m\u001b[1;33m\u001b[0m\u001b[0m\n",
      "\u001b[1;32m<ipython-input-105-8f62a8eb8c7c>\u001b[0m in \u001b[0;36mcreateBread\u001b[1;34m(self, breadType)\u001b[0m\n\u001b[0;32m     43\u001b[0m         2 : Butter()}\n\u001b[0;32m     44\u001b[0m     \u001b[1;32mdef\u001b[0m \u001b[0mcreateBread\u001b[0m\u001b[1;33m(\u001b[0m\u001b[0mself\u001b[0m\u001b[1;33m,\u001b[0m \u001b[0mbreadType\u001b[0m\u001b[1;33m)\u001b[0m\u001b[1;33m:\u001b[0m\u001b[1;33m\u001b[0m\u001b[1;33m\u001b[0m\u001b[0m\n\u001b[1;32m---> 45\u001b[1;33m         \u001b[1;32mreturn\u001b[0m \u001b[0mdict\u001b[0m\u001b[1;33m[\u001b[0m\u001b[0mbreadType\u001b[0m\u001b[1;33m]\u001b[0m \u001b[1;31m# type object가 return이 안되니 다른방법 찾아보기\u001b[0m\u001b[1;33m\u001b[0m\u001b[1;33m\u001b[0m\u001b[0m\n\u001b[0m",
      "\u001b[1;31mTypeError\u001b[0m: 'type' object is not subscriptable"
     ]
    }
   ],
   "source": [
    "breadList = BreadFactory().createBread(0)\n",
    "print(breadList.recipe())\n",
    "\n",
    "# for i in range(3):\n",
    "#     breadList.append(BreadFactory().createBread(i))\n",
    "\n",
    "# for bread in breadList:\n",
    "#     bread.recipe()\n",
    "#     print()\n"
   ]
  },
  {
   "cell_type": "code",
   "execution_count": null,
   "metadata": {},
   "outputs": [],
   "source": []
  }
 ],
 "metadata": {
  "kernelspec": {
   "display_name": "Python 3",
   "language": "python",
   "name": "python3"
  },
  "language_info": {
   "codemirror_mode": {
    "name": "ipython",
    "version": 3
   },
   "file_extension": ".py",
   "mimetype": "text/x-python",
   "name": "python",
   "nbconvert_exporter": "python",
   "pygments_lexer": "ipython3",
   "version": "3.7.7"
  },
  "toc": {
   "base_numbering": 1,
   "nav_menu": {},
   "number_sections": true,
   "sideBar": true,
   "skip_h1_title": false,
   "title_cell": "Table of Contents",
   "title_sidebar": "Contents",
   "toc_cell": false,
   "toc_position": {},
   "toc_section_display": true,
   "toc_window_display": false
  },
  "varInspector": {
   "cols": {
    "lenName": 16,
    "lenType": 16,
    "lenVar": 40
   },
   "kernels_config": {
    "python": {
     "delete_cmd_postfix": "",
     "delete_cmd_prefix": "del ",
     "library": "var_list.py",
     "varRefreshCmd": "print(var_dic_list())"
    },
    "r": {
     "delete_cmd_postfix": ") ",
     "delete_cmd_prefix": "rm(",
     "library": "var_list.r",
     "varRefreshCmd": "cat(var_dic_list()) "
    }
   },
   "types_to_exclude": [
    "module",
    "function",
    "builtin_function_or_method",
    "instance",
    "_Feature"
   ],
   "window_display": false
  }
 },
 "nbformat": 4,
 "nbformat_minor": 4
}
