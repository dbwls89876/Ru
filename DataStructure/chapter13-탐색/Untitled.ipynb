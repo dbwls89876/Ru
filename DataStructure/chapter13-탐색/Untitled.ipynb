{
 "cells": [
  {
   "cell_type": "code",
   "execution_count": 21,
   "metadata": {},
   "outputs": [],
   "source": [
    "class Node:\n",
    "    def __init__(self, key, height, left=None, right=None):\n",
    "        self.key = key\n",
    "        self.height = height\n",
    "        self.left = left\n",
    "        self.right=right\n",
    "        \n",
    "class AVL:\n",
    "    def __init__(self):\n",
    "        self.root = None\n",
    "        \n",
    "    def height(self, n):\n",
    "        if n == None:\n",
    "            return 0\n",
    "        return n.height\n",
    "        \n",
    "    def put(self, key):\n",
    "        self.root = self.put_item(self.root, key)\n",
    "        \n",
    "    def put_item(self, n, key):\n",
    "        if n == None:\n",
    "            return Node(key, 1)\n",
    "        if n.key > key:\n",
    "            n.left = self.put_item(n.left, key)\n",
    "        elif n.key < key:\n",
    "            n.right = self.put_item(n.right, key)\n",
    "            return n\n",
    "        n.height = max(self.height(n.left), self.height(n.right)) + 1\n",
    "        return self.balance(n)\n",
    "    \n",
    "    def balance(self, n):\n",
    "        if self.bf(n) > 1:\n",
    "            if self.bf(n.left) < 0:\n",
    "                n.left = self.rotate_left(n.left)\n",
    "            n = self.rotate_right(n)\n",
    "        elif self.bf(n) < -1:\n",
    "            if self.bf(n.right) < 0:\n",
    "                n.right = self.rotate_right(n.right)\n",
    "            n = self.rotate_left(n)\n",
    "        return n\n",
    "        \n",
    "    def bf(self, n):\n",
    "        return self.height(n.left) - self.height(n.right)\n",
    "    \n",
    "    def rotate_right(self, n):\n",
    "        x = n.left\n",
    "        n.left = x.right\n",
    "        x.right = n\n",
    "        n.height = max(self.height(n.left), self.height(n.right)) + 1\n",
    "        \n",
    "        x.height = max(self.height(x.left), self.height(x.right)) + 1\n",
    "        \n",
    "        return x\n",
    "    \n",
    "    def rotate_left(self, n):\n",
    "        x = n.right\n",
    "        n.right = x.left\n",
    "        x.left = n\n",
    "        n.height = max(self.height(n.left), self.height(n.right)) + 1\n",
    "        x.height = max(self.height(x.left), self.height(x.right)) + 1\n",
    "        return x\n",
    "        \n",
    "    def delete(self, key):\n",
    "        self.root = self.delete_node(self.root, key)\n",
    "        \n",
    "    def delete_node(self, n, key):\n",
    "        if n == None:\n",
    "            return None\n",
    "        if n.key > key:\n",
    "            n.left = self.delete_node(n.left, key)\n",
    "        elif n.key < key:\n",
    "            n.right = self.delete_node(n.right, key)\n",
    "        else:\n",
    "            if n.right == None:\n",
    "                return n.left\n",
    "            if n.left == None:\n",
    "                return n.right\n",
    "            target = n\n",
    "            n = self.minimum(target.right)\n",
    "            n.right = self.del_min(target.right)\n",
    "            n.left = target.left\n",
    "        n.height = max(self.height(n.left), self.height(n.right)) + 1\n",
    "        return self.balance(n)\n",
    "    \n",
    "    def delete_min(self):\n",
    "        if self.root == None:\n",
    "            print('트리가 비어있음')\n",
    "        self.root = self.del_min(self.root)\n",
    "    \n",
    "    def del_min(self, n):\n",
    "        if n.left == None:\n",
    "            return n.right\n",
    "        n.left = self.del_min(n.right)\n",
    "        n.height =  max(self.height(n.left), self.height(n.right)) + 1\n",
    "        return self.balance(n)\n",
    "    \n",
    "    def min(self):\n",
    "        if self.root == None:\n",
    "            return None\n",
    "        return self.minimum(self.root)\n",
    "    \n",
    "    def minimum(self, n):\n",
    "        if n.left == None:\n",
    "            return n\n",
    "        return self.minimum(n.left)\n",
    "    \n",
    "    def preorder(self, n):\n",
    "        print(str(n.key), ' ', end='')\n",
    "        if n.left:\n",
    "            self.preorder(n.left)\n",
    "        if n.right:\n",
    "            self.preorder(n.right)\n",
    "            \n",
    "    def inorder(self, n):\n",
    "        if n.left:\n",
    "            self.inorder(n.left)\n",
    "        print(str(n.key), ' ', end='')\n",
    "        if n.right:\n",
    "            self.inorder(n.right)"
   ]
  },
  {
   "cell_type": "code",
   "execution_count": 22,
   "metadata": {},
   "outputs": [],
   "source": [
    "tree = AVL()\n",
    "tree.put(7)\n",
    "tree.put(5)\n",
    "tree.put(9)\n",
    "tree.put(3)\n",
    "tree.put(1)"
   ]
  },
  {
   "cell_type": "code",
   "execution_count": 23,
   "metadata": {},
   "outputs": [
    {
     "name": "stdout",
     "output_type": "stream",
     "text": [
      "7  3  1  5  9  "
     ]
    }
   ],
   "source": [
    "tree.preorder(tree.root)"
   ]
  },
  {
   "cell_type": "code",
   "execution_count": 24,
   "metadata": {},
   "outputs": [],
   "source": [
    "tree.delete(7)"
   ]
  },
  {
   "cell_type": "code",
   "execution_count": 25,
   "metadata": {},
   "outputs": [
    {
     "name": "stdout",
     "output_type": "stream",
     "text": [
      "3  1  9  5  "
     ]
    }
   ],
   "source": [
    "tree.preorder(tree.root)"
   ]
  },
  {
   "cell_type": "code",
   "execution_count": null,
   "metadata": {},
   "outputs": [],
   "source": []
  }
 ],
 "metadata": {
  "kernelspec": {
   "display_name": "Python 3",
   "language": "python",
   "name": "python3"
  },
  "language_info": {
   "codemirror_mode": {
    "name": "ipython",
    "version": 3
   },
   "file_extension": ".py",
   "mimetype": "text/x-python",
   "name": "python",
   "nbconvert_exporter": "python",
   "pygments_lexer": "ipython3",
   "version": "3.7.7"
  },
  "toc": {
   "base_numbering": 1,
   "nav_menu": {},
   "number_sections": true,
   "sideBar": true,
   "skip_h1_title": false,
   "title_cell": "Table of Contents",
   "title_sidebar": "Contents",
   "toc_cell": false,
   "toc_position": {},
   "toc_section_display": true,
   "toc_window_display": false
  },
  "varInspector": {
   "cols": {
    "lenName": 16,
    "lenType": 16,
    "lenVar": 40
   },
   "kernels_config": {
    "python": {
     "delete_cmd_postfix": "",
     "delete_cmd_prefix": "del ",
     "library": "var_list.py",
     "varRefreshCmd": "print(var_dic_list())"
    },
    "r": {
     "delete_cmd_postfix": ") ",
     "delete_cmd_prefix": "rm(",
     "library": "var_list.r",
     "varRefreshCmd": "cat(var_dic_list()) "
    }
   },
   "types_to_exclude": [
    "module",
    "function",
    "builtin_function_or_method",
    "instance",
    "_Feature"
   ],
   "window_display": false
  }
 },
 "nbformat": 4,
 "nbformat_minor": 4
}
